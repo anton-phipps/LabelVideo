{
 "cells": [
  {
   "cell_type": "code",
   "execution_count": 1,
   "id": "28e91c77-b2a6-40f3-a587-f1d65835a845",
   "metadata": {},
   "outputs": [],
   "source": [
    "import os\n",
    "import glob\n",
    "import torchvision\n",
    "from json import load\n",
    "from pandas.io.json import json_normalize\n",
    "import tifffile as ti\n",
    "import numpy as np\n",
    "from sklearn.model_selection import train_test_split\n",
    "from torchvision.models.detection.faster_rcnn import FastRCNNPredictor\n",
    "from torchvision.ops import nms\n",
    "from torch_snippets import *\n",
    "from PIL import Image\n",
    "import plotly.express as px"
   ]
  },
  {
   "cell_type": "code",
   "execution_count": 2,
   "id": "6e0663e1-41d1-4f94-b65a-f0a0377dff9b",
   "metadata": {},
   "outputs": [],
   "source": [
    "# Set directories and filenames\n",
    "IMAGE_ROOT = './images/'\n",
    "LABEL_ROOT = './labels/'\n",
    "MODEL_PATH = './model/'\n",
    "model_save_name = 'diatom-model_old.pt'\n",
    "IMAGE_PREPEND = 'data1_'\n",
    "# IMAGE_PREPEND = 'diatome_test_img'"
   ]
  },
  {
   "cell_type": "code",
   "execution_count": 3,
   "id": "31fa6e62-b0b7-44dc-b608-4ebfd3f755e2",
   "metadata": {},
   "outputs": [],
   "source": [
    "with open(LABEL_ROOT + 'df_old.json') as json_data:\n",
    "# with open(LABEL_ROOT + 'df_old.json') as json_data:\n",
    "    data = load(json_data)\n",
    "    pass\n",
    "\n",
    "temp_df = pd.DataFrame(data['annotations'])\n",
    "images_df = pd.DataFrame(data['images'])\n",
    "categories_df = pd.DataFrame(data['categories']).iloc[:, 1:3]\n"
   ]
  },
  {
   "cell_type": "code",
   "execution_count": 4,
   "id": "a71b52c7-9c0f-4826-849b-9fc6b804d41c",
   "metadata": {},
   "outputs": [
    {
     "data": {
      "text/html": [
       "<pre style=\"white-space:pre;overflow-x:auto;line-height:normal;font-family:Menlo,'DejaVu Sans Mono',consolas,'Courier New',monospace\"><span style=\"color: #800080; text-decoration-color: #800080; font-weight: bold\">Index</span><span style=\"font-weight: bold\">([</span><span style=\"color: #008000; text-decoration-color: #008000\">'segmentation'</span>, <span style=\"color: #008000; text-decoration-color: #008000\">'area'</span>, <span style=\"color: #008000; text-decoration-color: #008000\">'iscrowd'</span>, <span style=\"color: #008000; text-decoration-color: #008000\">'ignore'</span>, <span style=\"color: #008000; text-decoration-color: #008000\">'image_id'</span>, <span style=\"color: #008000; text-decoration-color: #008000\">'bbox'</span>,\n",
       "       <span style=\"color: #008000; text-decoration-color: #008000\">'category_id'</span>, <span style=\"color: #008000; text-decoration-color: #008000\">'id'</span><span style=\"font-weight: bold\">]</span>,\n",
       "      <span style=\"color: #808000; text-decoration-color: #808000\">dtype</span>=<span style=\"color: #008000; text-decoration-color: #008000\">'object'</span><span style=\"font-weight: bold\">)</span>\n",
       "</pre>\n"
      ],
      "text/plain": [
       "\u001b[1;35mIndex\u001b[0m\u001b[1m(\u001b[0m\u001b[1m[\u001b[0m\u001b[32m'segmentation'\u001b[0m, \u001b[32m'area'\u001b[0m, \u001b[32m'iscrowd'\u001b[0m, \u001b[32m'ignore'\u001b[0m, \u001b[32m'image_id'\u001b[0m, \u001b[32m'bbox'\u001b[0m,\n",
       "       \u001b[32m'category_id'\u001b[0m, \u001b[32m'id'\u001b[0m\u001b[1m]\u001b[0m,\n",
       "      \u001b[33mdtype\u001b[0m=\u001b[32m'object'\u001b[0m\u001b[1m)\u001b[0m\n"
      ]
     },
     "metadata": {},
     "output_type": "display_data"
    },
    {
     "data": {
      "text/html": [
       "<pre style=\"white-space:pre;overflow-x:auto;line-height:normal;font-family:Menlo,'DejaVu Sans Mono',consolas,'Courier New',monospace\"><span style=\"color: #800080; text-decoration-color: #800080; font-weight: bold\">Index</span><span style=\"font-weight: bold\">([</span><span style=\"color: #008000; text-decoration-color: #008000\">'id'</span>, <span style=\"color: #008000; text-decoration-color: #008000\">'file_name'</span>, <span style=\"color: #008000; text-decoration-color: #008000\">'width'</span>, <span style=\"color: #008000; text-decoration-color: #008000\">'height'</span><span style=\"font-weight: bold\">]</span>, <span style=\"color: #808000; text-decoration-color: #808000\">dtype</span>=<span style=\"color: #008000; text-decoration-color: #008000\">'object'</span><span style=\"font-weight: bold\">)</span>\n",
       "</pre>\n"
      ],
      "text/plain": [
       "\u001b[1;35mIndex\u001b[0m\u001b[1m(\u001b[0m\u001b[1m[\u001b[0m\u001b[32m'id'\u001b[0m, \u001b[32m'file_name'\u001b[0m, \u001b[32m'width'\u001b[0m, \u001b[32m'height'\u001b[0m\u001b[1m]\u001b[0m, \u001b[33mdtype\u001b[0m=\u001b[32m'object'\u001b[0m\u001b[1m)\u001b[0m\n"
      ]
     },
     "metadata": {},
     "output_type": "display_data"
    },
    {
     "data": {
      "text/html": [
       "<pre style=\"white-space:pre;overflow-x:auto;line-height:normal;font-family:Menlo,'DejaVu Sans Mono',consolas,'Courier New',monospace\"><span style=\"color: #800080; text-decoration-color: #800080; font-weight: bold\">Index</span><span style=\"font-weight: bold\">([</span><span style=\"color: #008000; text-decoration-color: #008000\">'id'</span>, <span style=\"color: #008000; text-decoration-color: #008000\">'name'</span><span style=\"font-weight: bold\">]</span>, <span style=\"color: #808000; text-decoration-color: #808000\">dtype</span>=<span style=\"color: #008000; text-decoration-color: #008000\">'object'</span><span style=\"font-weight: bold\">)</span>\n",
       "</pre>\n"
      ],
      "text/plain": [
       "\u001b[1;35mIndex\u001b[0m\u001b[1m(\u001b[0m\u001b[1m[\u001b[0m\u001b[32m'id'\u001b[0m, \u001b[32m'name'\u001b[0m\u001b[1m]\u001b[0m, \u001b[33mdtype\u001b[0m=\u001b[32m'object'\u001b[0m\u001b[1m)\u001b[0m\n"
      ]
     },
     "metadata": {},
     "output_type": "display_data"
    },
    {
     "data": {
      "text/html": [
       "<pre style=\"white-space:pre;overflow-x:auto;line-height:normal;font-family:Menlo,'DejaVu Sans Mono',consolas,'Courier New',monospace\">   id    name\n",
       "<span style=\"color: #008080; text-decoration-color: #008080; font-weight: bold\">0</span>   <span style=\"color: #008080; text-decoration-color: #008080; font-weight: bold\">1</span>  diatom\n",
       "</pre>\n"
      ],
      "text/plain": [
       "   id    name\n",
       "\u001b[1;36m0\u001b[0m   \u001b[1;36m1\u001b[0m  diatom\n"
      ]
     },
     "metadata": {},
     "output_type": "display_data"
    },
    {
     "data": {
      "text/plain": [
       "0     [100, 248, 10, 20]\n",
       "1    [1250, 226, 22, 13]\n",
       "2    [1183, 209, 12, 22]\n",
       "3    [1147, 219, 23, 12]\n",
       "4    [1177, 306, 20, 14]\n",
       "Name: bbox, dtype: object"
      ]
     },
     "execution_count": 4,
     "metadata": {},
     "output_type": "execute_result"
    }
   ],
   "source": [
    "print(temp_df.columns)\n",
    "print(images_df.columns)\n",
    "print(categories_df.columns)\n",
    "print(categories_df)\n",
    "temp_df.bbox[0:5]"
   ]
  },
  {
   "cell_type": "code",
   "execution_count": 5,
   "id": "7a45be33-8b2f-416a-8c7f-137f0b2b3a50",
   "metadata": {},
   "outputs": [],
   "source": [
    "ar = temp_df.bbox[0]\n",
    "DF_RAW = df = pd.DataFrame(columns=['ImageID', 'LabelName', 'XMin', 'XMax', 'YMin', 'YMax'])\n",
    "\n",
    "X_FACTOR = 1392\n",
    "Y_FACTOR = 1040\n",
    "\n",
    "for index, row in temp_df.iterrows():\n",
    "    ar = row.bbox\n",
    "    xMin = ar[0]\n",
    "    xMax = ar[0] + ar[2]\n",
    "    yMin = ar[1]\n",
    "    yMax = ar[1] + ar[3]\n",
    "    #print(row.image_id)\n",
    "    imageId = IMAGE_PREPEND + str(int(row.image_id) - 1)\n",
    "    labelName = ''\n",
    "    if row.category_id == 1:\n",
    "        labelName = 'diatom'\n",
    "        pass\n",
    "    data = [[imageId, labelName, xMin / X_FACTOR, xMax / X_FACTOR, yMin / Y_FACTOR, yMax / Y_FACTOR]]\n",
    "    frame = pd.DataFrame(data, columns=['ImageID', 'LabelName', 'XMin', 'XMax', 'YMin', 'YMax'])\n",
    "    df = pd.concat([df, frame], axis=0)\n",
    "    pass"
   ]
  },
  {
   "cell_type": "code",
   "execution_count": 6,
   "id": "29bb78b3-5985-4ad5-be05-da4a37c00df5",
   "metadata": {},
   "outputs": [],
   "source": [
    "df = df.astype({'ImageID' : 'string', 'LabelName' : 'string', 'XMin' : 'float32', 'XMax' : 'float32', 'YMin' : 'float32', 'YMax' : 'float32'})\n",
    "DF_RAW = df"
   ]
  },
  {
   "cell_type": "code",
   "execution_count": 7,
   "id": "9befa0c2-e60b-45ff-861e-2912ad368e3a",
   "metadata": {},
   "outputs": [],
   "source": [
    "label2target = {l:t+1 for t,l in enumerate(DF_RAW['LabelName'].unique())}\n",
    "label2target['background'] = 0\n",
    "target2label = {t:l for l,t in label2target.items()}\n",
    "background_class = label2target['background']\n",
    "num_classes = len(label2target)"
   ]
  },
  {
   "cell_type": "code",
   "execution_count": 8,
   "id": "3bef9d65-1edf-4b28-ae93-e4a3cd3a9df3",
   "metadata": {},
   "outputs": [],
   "source": [
    "def preprocess_image(img):\n",
    "    # img = torch.tensor(img, dtype=torch.float32).permute(2,0,1)\n",
    "    img = torch.tensor(img, dtype=torch.float64).permute(2,0,1)\n",
    "    return img.to(device).float()"
   ]
  },
  {
   "cell_type": "code",
   "execution_count": 9,
   "id": "da90b9da-e9c1-498e-8717-930510c18306",
   "metadata": {},
   "outputs": [],
   "source": [
    "class OpenDataset(torch.utils.data.Dataset):\n",
    "    # w, h = 224, 224\n",
    "    w, h = 1392 * 2,1040 * 2\n",
    "    def __init__(self, df, image_dir=IMAGE_ROOT):\n",
    "        self.image_dir = image_dir\n",
    "        self.files = glob.glob(self.image_dir+'/*')\n",
    "        self.df = df\n",
    "        self.image_infos = df.ImageID.unique()\n",
    "        return\n",
    "    def __getitem__(self, ix):\n",
    "        # load images and masks\n",
    "        image_id = self.image_infos[ix]\n",
    "        img_path = find(image_id + \".png\", self.files)\n",
    "        img = Image.open(img_path).convert(\"RGB\")\n",
    "        img = np.array(img.resize((self.w, self.h), resample=Image.Resampling.BILINEAR))/255.\n",
    "        data = df[df['ImageID'] == image_id]\n",
    "        labels = data['LabelName'].values.tolist()\n",
    "        data = data[['XMin','YMin','XMax','YMax']].values\n",
    "        data[:,[0,2]] *= self.w\n",
    "        data[:,[1,3]] *= self.h\n",
    "        boxes = data.astype(np.uint32).tolist() # convert to absolute coordinates\n",
    "        # torch FRCNN expects ground truths as a dictionary of tensors\n",
    "        target = {}\n",
    "        target[\"boxes\"] = torch.Tensor(boxes).float()\n",
    "        target[\"labels\"] = torch.Tensor([label2target[i] for i in labels]).long()\n",
    "        img = preprocess_image(img)\n",
    "        return img, target\n",
    "    def collate_fn(self, batch):\n",
    "        return tuple(zip(*batch)) \n",
    "\n",
    "    def __len__(self):\n",
    "        return len(self.image_infos)\n",
    "    pass\n"
   ]
  },
  {
   "cell_type": "code",
   "execution_count": 10,
   "id": "39e4b1ee-a11c-412b-92f7-72b6ba8e15a9",
   "metadata": {},
   "outputs": [],
   "source": [
    "trn_ids, val_ids = train_test_split(df.ImageID.unique(), test_size=0.1, random_state=99)\n",
    "trn_df, val_df = df[df['ImageID'].isin(trn_ids)], df[df['ImageID'].isin(val_ids)]\n",
    "\n",
    "\n",
    "train_ds = OpenDataset(trn_df)\n",
    "test_ds = OpenDataset(val_df)\n",
    "\n",
    "\n",
    "train_loader = DataLoader(train_ds, batch_size=3, collate_fn=train_ds.collate_fn, drop_last=True)\n",
    "test_loader = DataLoader(test_ds, batch_size=3, collate_fn=test_ds.collate_fn, drop_last=True)"
   ]
  },
  {
   "cell_type": "code",
   "execution_count": 11,
   "id": "bf8466c6-07fd-4c60-bc12-1cd441b240cc",
   "metadata": {},
   "outputs": [
    {
     "data": {
      "text/html": [
       "<pre style=\"white-space:pre;overflow-x:auto;line-height:normal;font-family:Menlo,'DejaVu Sans Mono',consolas,'Courier New',monospace\">Device: cpu\n",
       "</pre>\n"
      ],
      "text/plain": [
       "Device: cpu\n"
      ]
     },
     "metadata": {},
     "output_type": "display_data"
    }
   ],
   "source": [
    "device = \"\"\n",
    "if torch.backends.mps.is_available():\n",
    "    device = \"mps\" #torch.device(\"mps\")\n",
    "    pass\n",
    "else:\n",
    "    device = \"cpu\"\n",
    "    pass\n",
    "\n",
    "device = \"cpu\"\n",
    "print(f\"Device: {device}\")\n",
    "\n",
    "def get_model():\n",
    "    model = torchvision.models.detection.fasterrcnn_resnet50_fpn(weights='FasterRCNN_ResNet50_FPN_Weights.DEFAULT')\n",
    "    in_features = model.roi_heads.box_predictor.cls_score.in_features\n",
    "    model.roi_heads.box_predictor = FastRCNNPredictor(in_features, num_classes)\n",
    "    return model"
   ]
  },
  {
   "cell_type": "code",
   "execution_count": 12,
   "id": "c1d399ed-80dc-45cb-8ea0-f0df6efebaab",
   "metadata": {},
   "outputs": [],
   "source": [
    "# Defining training and validation functions for a single batch\n",
    "def train_batch(inputs, model, optimizer):\n",
    "    model.train()\n",
    "    input, targets = inputs\n",
    "    input = list(image.to(device) for image in input)\n",
    "    targets = [{k: v.to(device) for k, v in t.items()} for t in targets]\n",
    "    optimizer.zero_grad()\n",
    "    losses = model(input, targets)\n",
    "    loss = sum(loss for loss in losses.values())\n",
    "    loss.backward()\n",
    "    optimizer.step()\n",
    "    return loss, losses\n",
    "\n",
    "@torch.no_grad() # this will disable gradient computation in the function below\n",
    "def validate_batch(inputs, model):\n",
    "    model.train() # to obtain the losses, model needs to be in train mode only. # #Note that here we are not defining the model's forward method \n",
    "#and hence need to work per the way the model class is defined\n",
    "    input, targets = inputs\n",
    "    input = list(image.to(device) for image in input)\n",
    "    targets = [{k: v.to(device) for k, v in t.items()} for t in targets]\n",
    "\n",
    "    optimizer.zero_grad()\n",
    "    losses = model(input, targets)\n",
    "    loss = sum(loss for loss in losses.values())\n",
    "    return loss, losses"
   ]
  },
  {
   "cell_type": "code",
   "execution_count": 13,
   "id": "3d010b54-e599-4ddb-9334-6da823e00260",
   "metadata": {},
   "outputs": [],
   "source": [
    "model = get_model().to(device)\n",
    "optimizer = torch.optim.SGD(model.parameters(), lr=0.005,\n",
    "                            momentum=0.9, weight_decay=0.0005)\n",
    "n_epochs = 5 # 10\n",
    "log = Report(n_epochs)"
   ]
  },
  {
   "cell_type": "code",
   "execution_count": null,
   "id": "a100c78a-cd38-4af4-b54e-e63de5883e3f",
   "metadata": {},
   "outputs": [
    {
     "name": "stdout",
     "output_type": "stream",
     "text": [
      "EPOCH: 0.556  trn_loss: 0.951  trn_loc_loss: 0.180  trn_regr_loss: 0.575  trn_objectness_loss: 0.071  trn_rpn_box_reg_loss: 0.125  (59.06s - 472.45s remaining)"
     ]
    }
   ],
   "source": [
    "\n",
    "for epoch in range(n_epochs):\n",
    "    _n = len(train_loader)\n",
    "    for ix, inputs in enumerate(train_loader):\n",
    "        loss, losses = train_batch(inputs, model, optimizer)\n",
    "        loc_loss, regr_loss, loss_objectness, loss_rpn_box_reg = \\\n",
    "            [losses[k] for k in ['loss_classifier','loss_box_reg','loss_objectness','loss_rpn_box_reg']]\n",
    "        pos = (epoch + (ix+1)/_n)\n",
    "        log.record(pos, trn_loss=loss.item(), trn_loc_loss=loc_loss.item(), \n",
    "                   trn_regr_loss=regr_loss.item(), trn_objectness_loss=loss_objectness.item(),\n",
    "                   trn_rpn_box_reg_loss=loss_rpn_box_reg.item(), end='\\r')\n",
    "\n",
    "    _n = len(test_loader)\n",
    "    for ix,inputs in enumerate(test_loader):\n",
    "        loss, losses = validate_batch(inputs, model)\n",
    "        loc_loss, regr_loss, loss_objectness, loss_rpn_box_reg = \\\n",
    "          [losses[k] for k in ['loss_classifier','loss_box_reg','loss_objectness','loss_rpn_box_reg']]\n",
    "        pos = (epoch + (ix+1)/_n)\n",
    "        log.record(pos, val_loss=loss.item(), val_loc_loss=loc_loss.item(), \n",
    "                  val_regr_loss=regr_loss.item(), val_objectness_loss=loss_objectness.item(),\n",
    "                  val_rpn_box_reg_loss=loss_rpn_box_reg.item(), end='\\r')\n",
    "    # if (epoch+1)%(n_epochs//5)==0: log.report_avgs(epoch+1)"
   ]
  },
  {
   "cell_type": "code",
   "execution_count": null,
   "id": "3de32733-88a9-4861-b817-351f0550c166",
   "metadata": {},
   "outputs": [],
   "source": [
    "log.plot_epochs(['trn_loss','val_loss'])"
   ]
  },
  {
   "cell_type": "code",
   "execution_count": null,
   "id": "dd2b945f-a9f5-48ef-a92a-b8b652015f5e",
   "metadata": {},
   "outputs": [],
   "source": [
    "def decode_output(output):\n",
    "    'convert tensors to numpy arrays'\n",
    "    bbs = output['boxes'].cpu().detach().numpy().astype(np.uint16)\n",
    "    labels = np.array([target2label[i] for i in output['labels'].cpu().detach().numpy()])\n",
    "    confs = output['scores'].cpu().detach().numpy()\n",
    "    ixs = nms(torch.tensor(bbs.astype(np.float32)), torch.tensor(confs), 0.05)\n",
    "    bbs, confs, labels = [tensor[ixs] for tensor in [bbs, confs, labels]]\n",
    "\n",
    "    if len(ixs) == 1:\n",
    "        bbs, confs, labels = [np.array([tensor]) for tensor in [bbs, confs, labels]]\n",
    "    return bbs.tolist(), confs.tolist(), labels.tolist()"
   ]
  },
  {
   "cell_type": "code",
   "execution_count": null,
   "id": "837bfb20-1f73-4154-8332-e7b20bb12655",
   "metadata": {},
   "outputs": [],
   "source": [
    "model.eval()\n",
    "for ix, (images, targets) in enumerate(test_loader):\n",
    "    if ix==3: break\n",
    "    #if ix==10: break\n",
    "    images = [im for im in images]\n",
    "    outputs = model(images)\n",
    "    for ix, output in enumerate(outputs):\n",
    "        bbs, confs, labels = decode_output(output)\n",
    "        info = [f'{l}@{c:.2f}' for l,c in zip(labels, confs)]\n",
    "        show(images[ix].cpu().permute(1,2,0), bbs=bbs)#, texts=labels, sz=15)"
   ]
  },
  {
   "cell_type": "code",
   "execution_count": null,
   "id": "43204e43-4d89-4d6f-8c98-1dc156a3d7fc",
   "metadata": {},
   "outputs": [],
   "source": [
    "# Save model for use in labeling\n",
    "torch.save(model.state_dict(), MODEL_PATH + model_save_name)"
   ]
  }
 ],
 "metadata": {
  "kernelspec": {
   "display_name": "Python 3 (ipykernel)",
   "language": "python",
   "name": "python3"
  },
  "language_info": {
   "codemirror_mode": {
    "name": "ipython",
    "version": 3
   },
   "file_extension": ".py",
   "mimetype": "text/x-python",
   "name": "python",
   "nbconvert_exporter": "python",
   "pygments_lexer": "ipython3",
   "version": "3.10.8"
  }
 },
 "nbformat": 4,
 "nbformat_minor": 5
}
