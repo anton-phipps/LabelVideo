{
 "cells": [
  {
   "cell_type": "code",
   "execution_count": 4,
   "id": "86158321-08a1-44f3-bf40-392a30297bd4",
   "metadata": {},
   "outputs": [],
   "source": [
    "import tifffile as ti\n",
    "import plotly.express as px\n",
    "import os"
   ]
  },
  {
   "cell_type": "code",
   "execution_count": 6,
   "id": "62be259c-08f6-4a48-be83-4a324791b716",
   "metadata": {},
   "outputs": [
    {
     "name": "stdout",
     "output_type": "stream",
     "text": [
      "agar sw 1 (unmasked).tif\n",
      "Movie 16 5x obj.tif\t(241, 1040, 1392)\n",
      "Movie 29 5x obj 30 degrees.tif\t(241, 1040, 1392)\n",
      "Movie 7 5x obj cropped.tif\t(241, 1040, 1152)\n",
      "agar 1.tif\t(61, 1040, 1392)\n",
      "agar 2.tif\t(61, 1040, 1392)\n",
      "agar sw 1 (unmasked).tif\t(61, 1040, 1392)\n",
      "agar sw 2.tif\t(61, 1040, 1392)\n",
      "agar sw surface 1.tif\t(61, 1040, 1392)\n",
      "agar sw surface 2.tif\t(61, 1040, 1392)\n"
     ]
    }
   ],
   "source": [
    "## Get the list of tiff files from the input_images folder\n",
    "imgDir = './input_images/'\n",
    "outputDir = './output_images/'\n",
    "\n",
    "files = os.listdir(imgDir)\n",
    "\n",
    "## The prefix of the output files so as not overwrite previous files\n",
    "prepend = 'data1_' #'diatome_test_img'\n",
    "\n",
    "## Make sure the files in question are actually tiff files and add them to an array\n",
    "image = []\n",
    "file_names = []\n",
    "files.sort()\n",
    "print(files[5])\n",
    "for f in files:\n",
    "    if \".tif\" in f:\n",
    "        image.append(ti.imread(imgDir + f))\n",
    "        file_names.append(f)\n",
    "        pass\n",
    "    pass\n",
    "\n",
    "## Print out the shapes of the images\n",
    "count = 0\n",
    "for i in image:\n",
    "    print(files[count], end='\\t')\n",
    "    print(i.shape)\n",
    "    count = count + 1\n",
    "    pass\n"
   ]
  },
  {
   "cell_type": "code",
   "execution_count": 7,
   "id": "8a380be0-3cde-4a16-ae52-8672d4562abc",
   "metadata": {},
   "outputs": [],
   "source": [
    "# Setup Counter to label images for output\n",
    "count = 0\n",
    "# Loop to write each of the frames to an individual file with the same dimensions as the original\n",
    "for img in image[5:6]:\n",
    "    # for i in img[0:15]:\n",
    "    for i in img:\n",
    "        fig = px.imshow(i, binary_string=True)\n",
    "        fig.update_xaxes(visible=False)\n",
    "        fig.update_yaxes(visible=False)\n",
    "        fig.write_image(outputDir + prepend + str(count) + \".png\", height=i.shape[0], width=i.shape[1])\n",
    "        count = count + 1\n",
    "        pass\n",
    "    pass\n"
   ]
  }
 ],
 "metadata": {
  "kernelspec": {
   "display_name": "Python 3 (ipykernel)",
   "language": "python",
   "name": "python3"
  },
  "language_info": {
   "codemirror_mode": {
    "name": "ipython",
    "version": 3
   },
   "file_extension": ".py",
   "mimetype": "text/x-python",
   "name": "python",
   "nbconvert_exporter": "python",
   "pygments_lexer": "ipython3",
   "version": "3.11.1"
  }
 },
 "nbformat": 4,
 "nbformat_minor": 5
}
